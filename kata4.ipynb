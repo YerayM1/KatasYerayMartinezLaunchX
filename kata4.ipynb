{
 "cells": [
  {
   "cell_type": "markdown",
   "metadata": {},
   "source": [
    "## Ejercicio 1"
   ]
  },
  {
   "cell_type": "code",
   "execution_count": null,
   "metadata": {},
   "outputs": [],
   "source": [
    "text = \"\"\"Interesting facts about the Moon. The Moon is Earth's only satellite. There are several interesting facts about the Moon and how it affects life here on Earth. \n",
    "On average, the Moon moves 4cm away from the Earth every year. This yearly drift is not significant enough to cause immediate effects on Earth. The highest day\"\"\"\n",
    "textPartes=text.split(\".\")\n",
    "\n",
    "palabraClave=[\"average\",\"temperature\",\"distance suena bien\"]\n",
    "\n",
    "for sentence in textPartes:\n",
    "    for palabraClave in palabraClave:\n",
    "        if palabraClave in sentence:\n",
    "            print(sentence.replace(\"C\",\"celsius\"))\n",
    "            break\n"
   ]
  },
  {
   "cell_type": "markdown",
   "metadata": {},
   "source": [
    "## ejercicio 2"
   ]
  },
  {
   "cell_type": "code",
   "execution_count": null,
   "metadata": {},
   "outputs": [],
   "source": [
    "name = \"Moon\"\n",
    "gravity = 0.00162 # in kms\n",
    "planet = \"Earth\"\n",
    "\n",
    "titulo= f'datos de la gravedad de la {name}'\n",
    "\n",
    "plantilla=f\"\"\"{\"-\"*80}\n",
    "planeta name:{planet}\n",
    "greavity en {name}:{gravity *1000} m/s2\"\"\"\n",
    "\n",
    "union=f\"\"\"\"{titulo.title()}\n",
    "{plantilla}\n",
    "\"\"\"\n",
    "print(union)\n",
    "\n",
    "planet = 'Marte '\n",
    "gravity  = 0.00143\n",
    "name= 'Ganímedes'\n",
    "\n",
    "\n",
    "plantilla_2=\"\"\"\n",
    "Datos de la gravedad de la {name}\n",
    "---------------------------------------------\n",
    "nombre de la planeta:{planet}\n",
    "Gravedad en {name}:{gravity}\"\"\"\n",
    "\n",
    "print(plantilla_2.format( name=name,planet=planet,gravity=gravity*1000))"
   ]
  }
 ],
 "metadata": {
  "interpreter": {
   "hash": "e308260f778e308800687dfe96dd7f7e796593b30fd4ad9b1d9043ec9c70cff2"
  },
  "kernelspec": {
   "display_name": "Python 3.10.0 64-bit",
   "language": "python",
   "name": "python3"
  },
  "language_info": {
   "name": "python",
   "version": "3.10.0"
  },
  "orig_nbformat": 4
 },
 "nbformat": 4,
 "nbformat_minor": 2
}
