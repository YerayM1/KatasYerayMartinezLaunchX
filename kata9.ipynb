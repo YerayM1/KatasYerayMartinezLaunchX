{
 "cells": [
  {
   "cell_type": "markdown",
   "metadata": {},
   "source": [
    "## ejercicio 1"
   ]
  },
  {
   "cell_type": "code",
   "execution_count": null,
   "metadata": {},
   "outputs": [],
   "source": [
    "def reporteGeneral(tanque1, tanque2, tanque3):\n",
    "    totalCombustible=(tanque1 + tanque2 + tanque3)/3\n",
    "    return f\"\"\"reporte completo \n",
    "    totalcombustible: {combustible([tanque1,tanque2,tanque3])}%\n",
    "    tanque 1: {tanque1}%\n",
    "    tanque 2: {tanque2}%\n",
    "    tanque 3:{tanque3}%\"\"\"\n",
    "\n",
    "\n",
    "def combustible(cantidad):\n",
    "    total=sum(cantidad)\n",
    "    numeroCanntidad=len(cantidad)\n",
    "    return total/numeroCanntidad\n",
    "print(reporteGeneral(52,63,80))\n"
   ]
  },
  {
   "cell_type": "code",
   "execution_count": 1,
   "metadata": {},
   "outputs": [
    {
     "name": "stdout",
     "output_type": "stream",
     "text": [
      "\n",
      "    MISION ASI pluton\n",
      "    tiempo total de viaje 69 minutos\n",
      "    capacidad de combustible 554114 galones\n",
      "    main tanque -->  303430 galones izquierda\n",
      "externo tanque -->  250684 galones izquierda\n",
      "\n"
     ]
    }
   ],
   "source": [
    "def datosMision(destino,*minutos, **tanqueReserva):\n",
    "    misionReporte= f\"\"\"\n",
    "    MISION ASI {destino}\n",
    "    tiempo total de viaje {sum(minutos)} minutos\n",
    "    capacidad de combustible {sum(tanqueReserva.values())} galones\n",
    "    \"\"\"\n",
    "\n",
    "    for tanque, galones in tanqueReserva.items():\n",
    "        misionReporte += f\"{tanque} tanque -->  {galones} galones izquierda\\n\"\n",
    "    return misionReporte\n",
    "\n",
    "print(datosMision(\"pluton\",12,23,34, main=303430,externo=250684))       \n",
    "\n"
   ]
  }
 ],
 "metadata": {
  "interpreter": {
   "hash": "e308260f778e308800687dfe96dd7f7e796593b30fd4ad9b1d9043ec9c70cff2"
  },
  "kernelspec": {
   "display_name": "Python 3.10.0 64-bit",
   "language": "python",
   "name": "python3"
  },
  "language_info": {
   "codemirror_mode": {
    "name": "ipython",
    "version": 3
   },
   "file_extension": ".py",
   "mimetype": "text/x-python",
   "name": "python",
   "nbconvert_exporter": "python",
   "pygments_lexer": "ipython3",
   "version": "3.10.0"
  },
  "orig_nbformat": 4
 },
 "nbformat": 4,
 "nbformat_minor": 2
}
