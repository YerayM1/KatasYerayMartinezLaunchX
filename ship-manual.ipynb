{
 "cells": [
  {
   "cell_type": "markdown",
   "metadata": {},
   "source": [
    "# Manual de viaje"
   ]
  },
  {
   "cell_type": "markdown",
   "metadata": {},
   "source": [
    "# kata 0"
   ]
  },
  {
   "cell_type": "code",
   "execution_count": null,
   "metadata": {},
   "outputs": [],
   "source": [
    "import ipywidgets as widgets\n",
    "\n",
    "ignition = widgets.ToggleButton(\n",
    "    value=False,\n",
    "    description='Iniciar Launch',\n",
    "    button_style='success',\n",
    "    tooltip='Engage your Launch',\n",
    "    icon='rocket'\n",
    ")\n",
    "\n",
    "output = widgets.Output()\n",
    "\n",
    "display(ignition, output)\n",
    "\n",
    "def on_value_change(change):\n",
    "    with output:\n",
    "        if change['new'] == True:\n",
    "            print(\"Nave Iniciada!\")\n",
    "        else:   \n",
    "            print(\"Nave Detenida\")\n",
    "\n",
    "ignition.observe(on_value_change, names='value')"
   ]
  },
  {
   "cell_type": "markdown",
   "metadata": {},
   "source": [
    "## Niveles de Oxigeno\n",
    "Muestra diez minutos de nivels de oxigeno en tu nave "
   ]
  },
  {
   "cell_type": "code",
   "execution_count": null,
   "metadata": {},
   "outputs": [],
   "source": [
    "import numpy as np\n",
    "import matplotlib.pyplot as plt\n",
    "data = np.random.default_rng(12345)\n",
    "oxy_nums = data.integers(low=0, high=10, size=10)\n",
    "\n",
    "plt.bar(range(len(oxy_nums)), oxy_nums)\n",
    "plt.show()"
   ]
  },
  {
   "cell_type": "markdown",
   "metadata": {},
   "source": [
    "## Velocidad de la nave\n",
    "\n",
    "Muestra los segundos necesarios para pasar de 0 a 11200 metros por segundo, dada la aceleración de la nave en metros por segundo."
   ]
  },
  {
   "cell_type": "code",
   "execution_count": null,
   "metadata": {},
   "outputs": [],
   "source": [
    "endVelocity = 11200\n",
    "startVelocity = 0\n",
    "acceleration = 9.8\n",
    "\n",
    "time = (endVelocity - startVelocity) / acceleration\n",
    "print(\"Tiempo para alcanzar la velocidad deseada = \", time)"
   ]
  },
  {
   "cell_type": "markdown",
   "metadata": {},
   "source": [
    "# kata 1"
   ]
  },
  {
   "cell_type": "markdown",
   "metadata": {},
   "source": [
    "## crear progrma que muestre la fecha \n",
    "debera mostrar la fecha de actual"
   ]
  },
  {
   "cell_type": "code",
   "execution_count": null,
   "metadata": {},
   "outputs": [],
   "source": [
    "from datetime import date\n",
    "\n",
    "print(\"Today`s date is:\"+ str(date.today()))"
   ]
  },
  {
   "cell_type": "markdown",
   "metadata": {},
   "source": [
    "## construir un convertidor de unidades\n",
    "un programa de conversion entre parsecs y años luz"
   ]
  },
  {
   "cell_type": "code",
   "execution_count": null,
   "metadata": {},
   "outputs": [],
   "source": [
    "parsec = 11\n",
    "\n",
    "lightyears = 3.26156 * parsec\n",
    "\n",
    "print(str(parsec) + \" parsec, is \" + str(lightyears) + \" lightyears\")"
   ]
  },
  {
   "cell_type": "code",
   "execution_count": null,
   "metadata": {},
   "outputs": [],
   "source": [
    "\"\"\"parsec= input(\"cantidad de parsec a convertir:\")\n",
    "lightyears= float(3.26156) * int(parsec)\n",
    "print(str(parsec)+\"parsec,is\"+ str(lightyears)+ \"lightyears\")\"\"\""
   ]
  },
  {
   "cell_type": "markdown",
   "metadata": {},
   "source": [
    "# kata 2 \n",
    "creacion de entorno virtual"
   ]
  },
  {
   "cell_type": "markdown",
   "metadata": {},
   "source": [
    "# kata 3 \n",
    "Escribir decclaraciones if,else, y elif"
   ]
  },
  {
   "cell_type": "code",
   "execution_count": null,
   "metadata": {},
   "outputs": [],
   "source": [
    "#problema 1 \n",
    "velocidad_de_asteroide= 49\n",
    "\n",
    "if velocidad_de_asteroide >= 25:\n",
    " print(\"advertencia alta probablidades impacto de asteroide\")\n",
    "elif velocidad_de_asteroide <=20:\n",
    " print(\"todo tranqui\")"
   ]
  },
  {
   "cell_type": "code",
   "execution_count": null,
   "metadata": {},
   "outputs": [],
   "source": [
    "#problema 2\n",
    "velocidad_de_asteroide= 19\n",
    "\n",
    "if velocidad_de_asteroide > 20:\n",
    " print(\"hay un luz en el cielo\")\n",
    "elif velocidad_de_asteroide==20:\n",
    "    print(\"se puede ver una luz en el cielo\")\n",
    "else:\n",
    " print(\"nada que ver\")"
   ]
  },
  {
   "cell_type": "code",
   "execution_count": null,
   "metadata": {},
   "outputs": [],
   "source": [
    "#problema 3\n",
    "asteroideVelocidad= 25\n",
    "asteroideTamaño= 40\n",
    "if asteroideTamaño>25 and  asteroideVelocidad>25:\n",
    "    print(\"desastre inminente\")\n",
    "elif asteroideVelocidad>=20:\n",
    "     print(\"se puede ver una luz en el cielo\")\n",
    "elif asteroideTamaño <25:\n",
    "    print(\"sin peligro\")\n",
    "else:\n",
    "    print(\"nada que ver aqui\")\n",
    " \n",
    "\n"
   ]
  },
  {
   "cell_type": "markdown",
   "metadata": {},
   "source": [
    "# Kata 4\n",
    "Treasnformar cadenas"
   ]
  },
  {
   "cell_type": "markdown",
   "metadata": {},
   "source": [
    "## Ejercicio 1"
   ]
  },
  {
   "cell_type": "code",
   "execution_count": null,
   "metadata": {},
   "outputs": [],
   "source": [
    "text = \"\"\"Interesting facts about the Moon. The Moon is Earth's only satellite. There are several interesting facts about the Moon and how it affects life here on Earth. \n",
    "On average, the Moon moves 4cm away from the Earth every year. This yearly drift is not significant enough to cause immediate effects on Earth. The highest day\"\"\"\n",
    "textPartes=text.split(\".\")\n",
    "\n",
    "palabraClave=[\"average\",\"temperature\",\"distance suena bien\"]\n",
    "\n",
    "for sentence in textPartes:\n",
    "    for palabraClave in palabraClave:\n",
    "        if palabraClave in sentence:\n",
    "            print(sentence.replace(\"C\",\"celsius\"))\n",
    "            break\n",
    "\n",
    "\n"
   ]
  },
  {
   "cell_type": "markdown",
   "metadata": {},
   "source": [
    "## ejercicio 2"
   ]
  },
  {
   "cell_type": "code",
   "execution_count": null,
   "metadata": {},
   "outputs": [],
   "source": [
    "name = \"Moon\"\n",
    "gravity = 0.00162 # in kms\n",
    "planet = \"Earth\"\n",
    "\n",
    "titulo= f'datos de la gravedad de la {name}'\n",
    "\n",
    "plantilla=f\"\"\"{\"-\"*80}\n",
    "planeta name:{planet}\n",
    "greavity en {name}:{gravity *1000} m/s2\"\"\"\n",
    "\n",
    "union=f\"\"\"\"{titulo.title()}\n",
    "{plantilla}\n",
    "\"\"\"\n",
    "print(union)\n",
    "\n",
    "planet = 'Marte '\n",
    "gravity  = 0.00143\n",
    "name= 'Ganímedes'\n",
    "\n",
    "\n",
    "plantilla_2=\"\"\"\n",
    "Datos de la gravedad de la {name}\n",
    "---------------------------------------------\n",
    "nombre de la planeta:{planet}\n",
    "Gravedad en {name}:{gravity}\"\"\"\n",
    "\n",
    "print(plantilla_2.format( name=name,planet=planet,gravity=gravity*1000))"
   ]
  },
  {
   "cell_type": "markdown",
   "metadata": {},
   "source": [
    "# Kata 5"
   ]
  },
  {
   "cell_type": "markdown",
   "metadata": {},
   "source": [
    "## ejercicio 1"
   ]
  },
  {
   "cell_type": "code",
   "execution_count": null,
   "metadata": {},
   "outputs": [],
   "source": [
    "Tierra=149597870 #km\n",
    "jupiter=778547200 #km\n",
    "from math import ceil\n",
    "restaEntre=(Tierra - jupiter)\n",
    "print(\"esto seria la distancia en millas \" + str(ceil(abs(restaEntre*0.621))))"
   ]
  },
  {
   "cell_type": "markdown",
   "metadata": {},
   "source": [
    "## ejercicio 2"
   ]
  },
  {
   "cell_type": "code",
   "execution_count": null,
   "metadata": {},
   "outputs": [],
   "source": [
    "\n",
    "primerPlaneta=input('ingrese la distancai del sol para primer planeta en Km')\n",
    "segundoPlaneta=input('ingrese la distancai del sol para segundo  planeta en Km')\n",
    "\n",
    "primerPlaneta=int(primerPlaneta)\n",
    "segundoPlaneta=int(segundoPlaneta)\n",
    "\n",
    "restaDistancia=(primerPlaneta-segundoPlaneta)\n",
    "print(str(abs(restaDistancia) )+ \" Km\")\n",
    "print(str(abs(restaDistancia*0.621))+ \" Millas\")\n"
   ]
  },
  {
   "cell_type": "markdown",
   "metadata": {},
   "source": [
    "# Kata 6 "
   ]
  },
  {
   "cell_type": "markdown",
   "metadata": {},
   "source": [
    "## ejercicio 1"
   ]
  },
  {
   "cell_type": "code",
   "execution_count": null,
   "metadata": {},
   "outputs": [],
   "source": [
    "planetas=[\"Mercury\",\"venus\",\"tierra\",\"marte\",\"jupiter\",\"saturno\",\"Uranus\",\"neptuno\"]\n",
    "planetas.append(\"pluton\")\n",
    "numeroPlanetas=len(planetas)\n",
    "print(\"son\",numeroPlanetas,\"planetas y el ultimo es\",planetas[8])\n"
   ]
  },
  {
   "cell_type": "markdown",
   "metadata": {},
   "source": [
    "## ejercicio 2"
   ]
  },
  {
   "cell_type": "code",
   "execution_count": null,
   "metadata": {},
   "outputs": [],
   "source": [
    "planets = ['Mercury', 'Venus', 'Earth', 'Mars', 'Jupiter', 'Saturn', 'Neptune']\n",
    "nombrePlaneta=input(\"que planeta desea (empieza con mayusculas)\")\n",
    "buscarPlaneta=planets.index(nombrePlaneta )\n",
    "Ubicacionplaneta=buscarPlaneta + 1\n",
    "#print(nombrePlaneta,\"es el planeta\", Ubicacionplaneta,\"desde el sol\")\n",
    "print('planetas cerca de  ' + nombrePlaneta)\n",
    "print(planets[0:buscarPlaneta])\n",
    "print('los planetas mas lejos que ' + nombrePlaneta)\n",
    "print(planets[Ubicacionplaneta:])"
   ]
  },
  {
   "cell_type": "markdown",
   "metadata": {},
   "source": [
    "# kata 7"
   ]
  },
  {
   "cell_type": "markdown",
   "metadata": {},
   "source": [
    "## ejercicio 1"
   ]
  },
  {
   "cell_type": "code",
   "execution_count": null,
   "metadata": {},
   "outputs": [],
   "source": [
    "new_planet=\"\"\n",
    "planets=[]\n",
    "\n",
    "while new_planet.lower() !=\"done\":\n",
    "    if new_planet:\n",
    "        planets.append(new_planet)\n",
    "    new_planet=input(\"agrega un planeta o si ya finalizastes pon done\")\n",
    "    print(new_planet)\n",
    "    #ejercicio 2 \n"
   ]
  },
  {
   "cell_type": "code",
   "execution_count": null,
   "metadata": {},
   "outputs": [],
   "source": [
    "for contarPlanetas in planets:\n",
    "        print(contarPlanetas)\n",
    "# funcion sleep(numero de segundo en espera)"
   ]
  },
  {
   "cell_type": "markdown",
   "metadata": {},
   "source": [
    "# kata 8"
   ]
  },
  {
   "cell_type": "markdown",
   "metadata": {},
   "source": [
    "## ejercicio 1"
   ]
  },
  {
   "cell_type": "code",
   "execution_count": null,
   "metadata": {},
   "outputs": [],
   "source": [
    "planet = {\n",
    "    'name': 'Mars',\n",
    "    'moons': 2\n",
    "}\n",
    "print(f' {planet[\"name\"]} tiene {planet[\"moons\"]} lunas')\n",
    "\n",
    "planet['circumference (km)']={\n",
    "    'polar':6752,\n",
    "    'equatorial':6792\n",
    "}\n",
    "\n",
    "print(f'{planet[\"name\"] } tiene un circunferencia de {planet[\"circumference (km)\"][\"polar\"]}')\n"
   ]
  },
  {
   "cell_type": "markdown",
   "metadata": {},
   "source": [
    "## ejercicio 2 "
   ]
  },
  {
   "cell_type": "code",
   "execution_count": null,
   "metadata": {},
   "outputs": [],
   "source": [
    "planet_moons = {\n",
    "    'mercury': 0,\n",
    "    'venus': 0,\n",
    "    'earth': 1,\n",
    "    'mars': 2,\n",
    "    'jupiter': 79,\n",
    "    'saturn': 82,\n",
    "    'uranus': 27,\n",
    "    'neptune': 14,\n",
    "    'pluto': 5,\n",
    "    'haumea': 2,\n",
    "    'makemake': 1,\n",
    "    'eris': 1\n",
    "}\n",
    "moons = planet_moons.values()\n",
    "planetaS= len(planet_moons.keys())\n",
    "\n",
    "total_moons=0\n",
    "\n",
    "for moon in moons:\n",
    "    total_moons=total_moons+moon\n",
    "    promedio=total_moons/planetaS\n",
    "    print(promedio)\n",
    "    \n",
    "\n",
    "    "
   ]
  },
  {
   "cell_type": "markdown",
   "metadata": {},
   "source": [
    "# KATA 9"
   ]
  },
  {
   "cell_type": "markdown",
   "metadata": {},
   "source": [
    "## ejercicio 1"
   ]
  },
  {
   "cell_type": "code",
   "execution_count": null,
   "metadata": {},
   "outputs": [],
   "source": [
    "def reporteGeneral(tanque1, tanque2, tanque3):\n",
    "    totalCombustible=(tanque1 + tanque2 + tanque3)/3\n",
    "    return f\"\"\"reporte completo \n",
    "    totalcombustible: {combustible([tanque1,tanque2,tanque3])}%\n",
    "    tanque 1: {tanque1}%\n",
    "    tanque 2: {tanque2}%\n",
    "    tanque 3:{tanque3}%\"\"\"\n",
    "\n",
    "\n",
    "def combustible(cantidad):\n",
    "    total=sum(cantidad)\n",
    "    numeroCanntidad=len(cantidad)\n",
    "    return total/numeroCanntidad\n",
    "print(reporteGeneral(52,63,80))\n"
   ]
  },
  {
   "cell_type": "code",
   "execution_count": null,
   "metadata": {},
   "outputs": [],
   "source": [
    "def datosMision(destino,*minutos, **tanqueReserva):\n",
    "    misionReporte= f\"\"\"\n",
    "    MISION ASI {destino}\n",
    "    tiempo total de viaje {sum(minutos)} minutos\n",
    "    capacidad de combustible {sum(tanqueReserva.values())} galones\n",
    "    \"\"\"\n",
    "\n",
    "    for tanque, galones in tanqueReserva.items():\n",
    "        misionReporte += f\"{tanque} tanque -->  {galones} galones izquierda\\n\"\n",
    "    return misionReporte\n",
    "\n",
    "print(datosMision(\"pluton\",12,23,34, main=303430,externo=250684))       \n",
    "\n"
   ]
  },
  {
   "cell_type": "markdown",
   "metadata": {},
   "source": [
    "# kata 10"
   ]
  },
  {
   "cell_type": "code",
   "execution_count": null,
   "metadata": {},
   "outputs": [],
   "source": [
    "open(\"/path/to/mars.jpg\")"
   ]
  },
  {
   "cell_type": "code",
   "execution_count": null,
   "metadata": {},
   "outputs": [],
   "source": [
    "#ejecucion en el archivo open,py\n",
    "def main():\n",
    "    open(\"/path/to/mars.jpg\")\n",
    "\n",
    "if __name__ == '__main__':\n",
    "    main()"
   ]
  },
  {
   "cell_type": "code",
   "execution_count": 3,
   "metadata": {},
   "outputs": [
    {
     "name": "stdout",
     "output_type": "stream",
     "text": [
      "Couldn't find the config.txt file!\n"
     ]
    }
   ],
   "source": [
    "try:\n",
    "    open('config.txt')\n",
    "except FileNotFoundError:\n",
    " print(\"Couldn't find the config.txt file!\")"
   ]
  },
  {
   "cell_type": "code",
   "execution_count": null,
   "metadata": {},
   "outputs": [],
   "source": [
    "def main():\n",
    "    try:\n",
    "        configuration = open('config.txt')\n",
    "    except FileNotFoundError:\n",
    "        print(\"Couldn't find the config.txt file!\")\n",
    "    except IsADirectoryError:\n",
    "        print(\"Found config.txt but it is a directory, couldn't read it\")\n",
    "    except (BlockingIOError, TimeoutError):\n",
    "        print(\"Filesystem under heavy load, can't complete reading configuration file\")"
   ]
  }
 ],
 "metadata": {
  "interpreter": {
   "hash": "e308260f778e308800687dfe96dd7f7e796593b30fd4ad9b1d9043ec9c70cff2"
  },
  "kernelspec": {
   "display_name": "Python 3.10.0 64-bit",
   "language": "python",
   "name": "python3"
  },
  "language_info": {
   "codemirror_mode": {
    "name": "ipython",
    "version": 3
   },
   "file_extension": ".py",
   "mimetype": "text/x-python",
   "name": "python",
   "nbconvert_exporter": "python",
   "pygments_lexer": "ipython3",
   "version": "3.10.0"
  },
  "orig_nbformat": 4
 },
 "nbformat": 4,
 "nbformat_minor": 2
}
