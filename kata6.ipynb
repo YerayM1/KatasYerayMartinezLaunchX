{
 "cells": [
  {
   "cell_type": "markdown",
   "metadata": {},
   "source": [
    "## ejercicio 1"
   ]
  },
  {
   "cell_type": "code",
   "execution_count": null,
   "metadata": {},
   "outputs": [],
   "source": [
    "planetas=[\"Mercury\",\"venus\",\"tierra\",\"marte\",\"jupiter\",\"saturno\",\"Uranus\",\"neptuno\"]\n",
    "planetas.append(\"pluton\")\n",
    "numeroPlanetas=len(planetas)\n",
    "print(\"son\",numeroPlanetas,\"planetas y el ultimo es\",planetas[8])\n"
   ]
  },
  {
   "cell_type": "markdown",
   "metadata": {},
   "source": [
    "## ejercicio 2"
   ]
  },
  {
   "cell_type": "code",
   "execution_count": null,
   "metadata": {},
   "outputs": [],
   "source": [
    "planets = ['Mercury', 'Venus', 'Earth', 'Mars', 'Jupiter', 'Saturn', 'Neptune']\n",
    "nombrePlaneta=input(\"que planeta desea (empieza con mayusculas)\")\n",
    "buscarPlaneta=planets.index(nombrePlaneta )\n",
    "Ubicacionplaneta=buscarPlaneta + 1\n",
    "#print(nombrePlaneta,\"es el planeta\", Ubicacionplaneta,\"desde el sol\")\n",
    "print('planetas cerca de  ' + nombrePlaneta)\n",
    "print(planets[0:buscarPlaneta])\n",
    "print('los planetas mas lejos que ' + nombrePlaneta)\n",
    "print(planets[Ubicacionplaneta:])"
   ]
  }
 ],
 "metadata": {
  "interpreter": {
   "hash": "e308260f778e308800687dfe96dd7f7e796593b30fd4ad9b1d9043ec9c70cff2"
  },
  "kernelspec": {
   "display_name": "Python 3.10.0 64-bit",
   "language": "python",
   "name": "python3"
  },
  "language_info": {
   "codemirror_mode": {
    "name": "ipython",
    "version": 3
   },
   "file_extension": ".py",
   "mimetype": "text/x-python",
   "name": "python",
   "nbconvert_exporter": "python",
   "pygments_lexer": "ipython3",
   "version": "3.10.0"
  },
  "orig_nbformat": 4
 },
 "nbformat": 4,
 "nbformat_minor": 2
}
