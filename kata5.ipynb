{
 "cells": [
  {
   "cell_type": "markdown",
   "metadata": {},
   "source": [
    "## ejercicio 1"
   ]
  },
  {
   "cell_type": "code",
   "execution_count": null,
   "metadata": {},
   "outputs": [],
   "source": [
    "Tierra=149597870 #km\n",
    "jupiter=778547200 #km\n",
    "from math import ceil\n",
    "restaEntre=(Tierra - jupiter)\n",
    "print(\"esto seria la distancia en millas \" + str(ceil(abs(restaEntre*0.621))))"
   ]
  },
  {
   "cell_type": "markdown",
   "metadata": {},
   "source": [
    "## ejercicio 2"
   ]
  },
  {
   "cell_type": "code",
   "execution_count": null,
   "metadata": {},
   "outputs": [],
   "source": [
    "primerPlaneta=input('ingrese la distancai del sol para primer planeta en Km')\n",
    "segundoPlaneta=input('ingrese la distancai del sol para segundo  planeta en Km')\n",
    "\n",
    "primerPlaneta=int(primerPlaneta)\n",
    "segundoPlaneta=int(segundoPlaneta)\n",
    "\n",
    "restaDistancia=(primerPlaneta-segundoPlaneta)\n",
    "print(str(abs(restaDistancia) )+ \" Km\")\n",
    "print(str(abs(restaDistancia*0.621))+ \" Millas\")\n"
   ]
  }
 ],
 "metadata": {
  "interpreter": {
   "hash": "e308260f778e308800687dfe96dd7f7e796593b30fd4ad9b1d9043ec9c70cff2"
  },
  "kernelspec": {
   "display_name": "Python 3.10.0 64-bit",
   "language": "python",
   "name": "python3"
  },
  "language_info": {
   "codemirror_mode": {
    "name": "ipython",
    "version": 3
   },
   "file_extension": ".py",
   "mimetype": "text/x-python",
   "name": "python",
   "nbconvert_exporter": "python",
   "pygments_lexer": "ipython3",
   "version": "3.10.0"
  },
  "orig_nbformat": 4
 },
 "nbformat": 4,
 "nbformat_minor": 2
}
