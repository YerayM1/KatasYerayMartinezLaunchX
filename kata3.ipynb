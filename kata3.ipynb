{
 "cells": [
  {
   "cell_type": "code",
   "execution_count": null,
   "metadata": {},
   "outputs": [],
   "source": [
    "#problema 1 \n",
    "velocidad_de_asteroide= 49\n",
    "\n",
    "if velocidad_de_asteroide >= 25:\n",
    " print(\"advertencia alta probablidades impacto de asteroide\")\n",
    "elif velocidad_de_asteroide <=20:\n",
    " print(\"todo tranqui\")"
   ]
  },
  {
   "cell_type": "code",
   "execution_count": null,
   "metadata": {},
   "outputs": [],
   "source": [
    "#problema 2\n",
    "velocidad_de_asteroide= 19\n",
    "\n",
    "if velocidad_de_asteroide > 20:\n",
    " print(\"hay un luz en el cielo\")\n",
    "elif velocidad_de_asteroide==20:\n",
    "    print(\"se puede ver una luz en el cielo\")\n",
    "else:\n",
    " print(\"nada que ver\")"
   ]
  },
  {
   "cell_type": "code",
   "execution_count": null,
   "metadata": {},
   "outputs": [],
   "source": [
    "#problema 3\n",
    "asteroideVelocidad= 25\n",
    "asteroideTamaño= 40\n",
    "if asteroideTamaño>25 and  asteroideVelocidad>25:\n",
    "    print(\"desastre inminente\")\n",
    "elif asteroideVelocidad>=20:\n",
    "     print(\"se puede ver una luz en el cielo\")\n",
    "elif asteroideTamaño <25:\n",
    "    print(\"sin peligro\")\n",
    "else:\n",
    "    print(\"nada que ver aqui\")"
   ]
  }
 ],
 "metadata": {
  "language_info": {
   "name": "python"
  },
  "orig_nbformat": 4
 },
 "nbformat": 4,
 "nbformat_minor": 2
}
