{
 "cells": [
  {
   "cell_type": "markdown",
   "metadata": {},
   "source": [
    "## ejercicio 1"
   ]
  },
  {
   "cell_type": "code",
   "execution_count": 2,
   "metadata": {},
   "outputs": [
    {
     "name": "stdout",
     "output_type": "stream",
     "text": [
      "jupiter\n",
      "saturno\n",
      "done\n"
     ]
    }
   ],
   "source": [
    "new_planet=\"\"\n",
    "planets=[]\n",
    "\n",
    "while new_planet.lower() !=\"done\":\n",
    "    if new_planet:\n",
    "        planets.append(new_planet)\n",
    "    new_planet=input(\"agrega un planeta o si ya finalizastes pon done\")\n",
    "    print(new_planet)\n",
    "     \n",
    "#ejercicio 2 \n"
   ]
  },
  {
   "cell_type": "code",
   "execution_count": 3,
   "metadata": {},
   "outputs": [
    {
     "name": "stdout",
     "output_type": "stream",
     "text": [
      "jupiter\n",
      "saturno\n"
     ]
    }
   ],
   "source": [
    "for contarPlanetas in planets:\n",
    "        print(contarPlanetas)"
   ]
  }
 ],
 "metadata": {
  "interpreter": {
   "hash": "e308260f778e308800687dfe96dd7f7e796593b30fd4ad9b1d9043ec9c70cff2"
  },
  "kernelspec": {
   "display_name": "Python 3.10.0 64-bit",
   "language": "python",
   "name": "python3"
  },
  "language_info": {
   "codemirror_mode": {
    "name": "ipython",
    "version": 3
   },
   "file_extension": ".py",
   "mimetype": "text/x-python",
   "name": "python",
   "nbconvert_exporter": "python",
   "pygments_lexer": "ipython3",
   "version": "3.10.0"
  },
  "orig_nbformat": 4
 },
 "nbformat": 4,
 "nbformat_minor": 2
}
